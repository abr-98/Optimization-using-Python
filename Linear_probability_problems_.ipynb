{
  "nbformat": 4,
  "nbformat_minor": 0,
  "metadata": {
    "colab": {
      "name": "Linear probability problems .ipynb",
      "provenance": []
    },
    "kernelspec": {
      "name": "python3",
      "display_name": "Python 3"
    },
    "language_info": {
      "name": "python"
    }
  },
  "cells": [
    {
      "cell_type": "markdown",
      "metadata": {
        "id": "PveMal5VZu2k"
      },
      "source": [
        "### Problem 1"
      ]
    },
    {
      "cell_type": "code",
      "metadata": {
        "id": "ZKmjPgdKP2be"
      },
      "source": [
        "from matplotlib import pyplot as plt\n",
        "from shapely.geometry import LineString\n",
        "import numpy as np"
      ],
      "execution_count": null,
      "outputs": []
    },
    {
      "cell_type": "code",
      "metadata": {
        "id": "csEDtIpHoJpZ"
      },
      "source": [
        "## Finding solution using LPP:\n",
        "## 5a+b >=10\n",
        "## 2a+2b >=12\n",
        "## a+4b >=12\n",
        "## a>=0\n",
        "## b>=0\n",
        "##minimize z = 3a + 2b"
      ],
      "execution_count": null,
      "outputs": []
    },
    {
      "cell_type": "code",
      "metadata": {
        "colab": {
          "base_uri": "https://localhost:8080/",
          "height": 448
        },
        "id": "zyEE_DYARgrL",
        "outputId": "bb42e19e-5364-45d8-dca3-79caa4e9159b"
      },
      "source": [
        "from matplotlib import pyplot as plt\n",
        "from shapely.geometry import LineString\n",
        "import numpy as np\n",
        "c1_x = float(input(\"Enter coefficient of x in 1st constraint \"))\n",
        "c1_y = float(input(\"Enter coefficient of y in 1st constraint \"))\n",
        "c1_c = float(input(\"Enter constant_value in 1st constraint \"))\n",
        "c2_x = float(input(\"Enter coefficient of x in 2nd constraint \"))\n",
        "c2_y = float(input(\"Enter coefficient of y in 2nd constraint \"))\n",
        "c2_c = float(input(\"Enter constant_value in 2nd constraint \"))\n",
        "c3_x = float(input(\"Enter coefficient of x in 3rd constraint \"))\n",
        "c3_y = float(input(\"Enter coefficient of y in 3rd constraint \"))\n",
        "c3_c = float(input(\"Enter constant_value in 3rd constraint \"))\n",
        "x1 = [0,c1_c/c1_x]\n",
        "y1 = [c1_c/c1_y,0]\n",
        "plt.plot(x1,y1,lw=3)\n",
        "x2 = [0,c2_c/c2_x]\n",
        "y2 = [c2_c/c2_y,0]\n",
        "plt.plot(x2,y2,lw=3)\n",
        "x3 = [0,c3_c/c3_x]\n",
        "y3 = [c3_c/c3_y,0]\n",
        "plt.plot(x3,y3,lw=3)\n",
        "s=np.linspace(0,max(c1_c/c1_x,c1_c/c1_y,c2_c/c2_x,c2_c/c2_y,c3_c/c3_x,c3_c/c3_y)+3)\n",
        "plt.plot(np.zeros_like(s), s, lw=3, label='t non-negative')\n",
        "plt.plot(s, np.zeros_like(s), lw=3, label='s non-negative')\n",
        "plt.xlabel('x-axis')\n",
        "plt.ylabel('y-axis')\n",
        "plt.title('plotting')\n",
        "plt.xlim(-1, max(c1_c/c1_x,c1_c/c1_y,c2_c/c2_x,c2_c/c2_y)+3)\n",
        "plt.ylim(-1, max(c1_c/c1_x,c1_c/c1_y,c2_c/c2_x,c2_c/c2_y)+3)\n",
        "plt.show()"
      ],
      "execution_count": null,
      "outputs": [
        {
          "output_type": "stream",
          "text": [
            "Enter coefficient of x in 1st constraint 5\n",
            "Enter coefficient of y in 1st constraint 1\n",
            "Enter constant_value in 1st constraint 10\n",
            "Enter coefficient of x in 2nd constraint 2\n",
            "Enter coefficient of y in 2nd constraint 2\n",
            "Enter constant_value in 2nd constraint 12\n",
            "Enter coefficient of x in 3rd constraint 1\n",
            "Enter coefficient of y in 3rd constraint 4\n",
            "Enter constant_value in 3rd constraint 12\n"
          ],
          "name": "stdout"
        },
        {
          "output_type": "display_data",
          "data": {
            "image/png": "[encoded data removed]",
            "text/plain": [
              "<Figure size 432x288 with 1 Axes>"
            ]
          },
          "metadata": {
            "tags": [],
            "needs_background": "light"
          }
        }
      ]
    },
    {
      "cell_type": "code",
      "metadata": {
        "colab": {
          "base_uri": "https://localhost:8080/",
          "height": 295
        },
        "id": "XWoe3B-0RxXr",
        "outputId": "158bb25c-b306-4216-ad3c-e9c31e0d30c0"
      },
      "source": [
        "line1 = LineString([(0, c1_c/c1_y), (c1_c/c1_x, 0)])  #blue\n",
        "line2 = LineString([(0, c2_c/c2_y), (c2_c/c2_x, 0)])  #orange\n",
        "line3 = LineString([(0, c3_c/c3_y), (c3_c/c3_x,0)])  #green\n",
        "line4 = LineString([(0, 0), (max(c1_c/c1_x,c1_c/c1_y,c2_c/c2_x,c2_c/c2_y,c3_c/c3_x,c3_c/c3_y)+1, 0)])  #X-axis #violet\n",
        "line5 = LineString([(0, 0), (0, max(c1_c/c1_x,c1_c/c1_y,c2_c/c2_x,c2_c/c2_y,c3_c/c3_x,c3_c/c3_y)+1)])  #Y-axis #red\n",
        "intersection_1 = line1.intersection(line5)\n",
        "intersection_2 = line1.intersection(line2)\n",
        "intersection_3 = line2.intersection(line3)\n",
        "intersection_4 = line3.intersection(line4)\n",
        "\n",
        "plt.plot(*intersection_1.xy,'ro')\n",
        "plt.plot(*intersection_2.xy,'bo')\n",
        "plt.plot(*intersection_3.xy,'go')\n",
        "plt.plot(*intersection_4.xy,'yo')\n",
        "x1 = [0,c1_c/c1_x]\n",
        "y1 = [c1_c/c1_y,0]\n",
        "plt.plot(x1,y1,lw=1)\n",
        "x2 = [0,c2_c/c2_x]\n",
        "y2 = [c2_c/c2_y,0]\n",
        "plt.plot(x2,y2,lw=1)\n",
        "x3 = [0,c3_c/c3_x]\n",
        "y3 = [c3_c/c3_y,0]\n",
        "plt.plot(x3,y3,lw=1)\n",
        "s=np.linspace(0,max(c1_c/c1_x,c1_c/c1_y,c2_c/c2_x,c2_c/c2_y,c3_c/c3_x,c3_c/c3_y)+3)\n",
        "plt.plot(np.zeros_like(s), s, lw=1, label='t non-negative')\n",
        "plt.plot(s, np.zeros_like(s), lw=1, label='s non-negative')\n",
        "plt.xlabel('x-axis')\n",
        "plt.ylabel('y-axis')\n",
        "plt.title('plotting')\n",
        "plt.xlim(-1, max(c1_c/c1_x,c1_c/c1_y,c2_c/c2_x,c2_c/c2_y)+3)\n",
        "plt.ylim(-1, max(c1_c/c1_x,c1_c/c1_y,c2_c/c2_x,c2_c/c2_y)+3)\n",
        "plt.show()"
      ],
      "execution_count": null,
      "outputs": [
        {
          "output_type": "display_data",
          "data": {
            "image/png": "[encoded data removed]",
            "text/plain": [
              "<Figure size 432x288 with 1 Axes>"
            ]
          },
          "metadata": {
            "tags": [],
            "needs_background": "light"
          }
        }
      ]
    },
    {
      "cell_type": "code",
      "metadata": {
        "id": "8arkf4eqW69L"
      },
      "source": [
        "pts_1=[i[0] for i in intersection_1.xy]\n",
        "pts_2=[i[0] for i in intersection_2.xy]\n",
        "pts_3=[i[0] for i in intersection_3.xy]\n",
        "pts_4=[i[0] for i in intersection_4.xy]"
      ],
      "execution_count": null,
      "outputs": []
    },
    {
      "cell_type": "code",
      "metadata": {
        "colab": {
          "base_uri": "https://localhost:8080/",
          "height": 295
        },
        "id": "_9-dLodhcjh5",
        "outputId": "9ec6445d-8271-41b2-deae-a7aab0960750"
      },
      "source": [
        "line1 = LineString([(0, c1_c/c1_y), (c1_c/c1_x, 0)])  #blue\n",
        "line2 = LineString([(0, c2_c/c2_y), (c2_c/c2_x, 0)])  #orange\n",
        "line3 = LineString([(0, c3_c/c3_y), (c3_c/c3_x,0)])  #green\n",
        "line4 = LineString([(0, 0), (max(c1_c/c1_x,c1_c/c1_y,c2_c/c2_x,c2_c/c2_y,c3_c/c3_x,c3_c/c3_y)+1, 0)])  #X-axis #violet\n",
        "line5 = LineString([(0, 0), (0, max(c1_c/c1_x,c1_c/c1_y,c2_c/c2_x,c2_c/c2_y,c3_c/c3_x,c3_c/c3_y)+1)])  #Y-axis #red\n",
        "intersection_1 = line1.intersection(line5)\n",
        "intersection_2 = line1.intersection(line2)\n",
        "intersection_3 = line2.intersection(line3)\n",
        "intersection_4 = line3.intersection(line4)\n",
        "\n",
        "plt.plot(*intersection_1.xy,'ro')\n",
        "plt.plot(*intersection_2.xy,'bo')\n",
        "plt.plot(*intersection_3.xy,'go')\n",
        "plt.plot(*intersection_4.xy,'yo')\n",
        "x1 = [0,c1_c/c1_x]\n",
        "y1 = [c1_c/c1_y,0]\n",
        "plt.plot(x1,y1,lw=1)\n",
        "x2 = [0,c2_c/c2_x]\n",
        "y2 = [c2_c/c2_y,0]\n",
        "plt.plot(x2,y2,lw=1)\n",
        "x3 = [0,c3_c/c3_x]\n",
        "y3 = [c3_c/c3_y,0]\n",
        "plt.plot(x3,y3,lw=1)\n",
        "s=np.linspace(0,max(c1_c/c1_x,c1_c/c1_y,c2_c/c2_x,c2_c/c2_y,c3_c/c3_x,c3_c/c3_y)+3)\n",
        "plt.plot(np.zeros_like(s), s, lw=1, label='t non-negative')\n",
        "plt.plot(s, np.zeros_like(s), lw=1, label='s non-negative')\n",
        "plt.xlabel('x-axis')\n",
        "plt.ylabel('y-axis')\n",
        "plt.title('plotting')\n",
        "plt.xlim(-1, max(c1_c/c1_x,c1_c/c1_y,c2_c/c2_x,c2_c/c2_y)+3)\n",
        "plt.ylim(-1, max(c1_c/c1_x,c1_c/c1_y,c2_c/c2_x,c2_c/c2_y)+3)\n",
        "\n",
        "A = [pts_4[0],pts_3[0], pts_2[0], pts_1[0],0,12,12]\n",
        "B = [pts_4[1],pts_3[1], pts_2[1], pts_1[1],12,12,0]\n",
        "\n",
        "plt.fill(A,B)\n",
        "plt.show()"
      ],
      "execution_count": null,
      "outputs": [
        {
          "output_type": "display_data",
          "data": {
            "image/png": "[encoded data removed]",
            "text/plain": [
              "<Figure size 432x288 with 1 Axes>"
            ]
          },
          "metadata": {
            "tags": [],
            "needs_background": "light"
          }
        }
      ]
    },
    {
      "cell_type": "code",
      "metadata": {
        "colab": {
          "base_uri": "https://localhost:8080/"
        },
        "id": "XTFVNbDeSTbh",
        "outputId": "b6cf8a1b-caff-4bd2-81d4-88969aedb0f0"
      },
      "source": [
        "l = [pts_1,pts_2,pts_3,pts_4]\n",
        "p = float(input(\"Enter coefficient of x in objective function \"))\n",
        "q = float(input(\"Enter the coefficient of y in objective function \"))\n",
        "l1 = []\n",
        "for point in l:\n",
        "  l1.append(p * point[0] + q * point[1])\n",
        "print(l1)\n",
        "print('Minimum is: ',min(l1))\n",
        "print('The point of minimum is: ',l[np.argmin(l1)])"
      ],
      "execution_count": null,
      "outputs": [
        {
          "output_type": "stream",
          "text": [
            "Enter coefficient of x in objective function 3\n",
            "Enter the coefficient of y in objective function 2\n",
            "The extreme points are:  [[0.0, 10.0], [1.0, 5.0], [4.0, 2.0], [12.0, 0.0]]\n",
            "[20.0, 13.0, 16.0, 36.0]\n",
            "Minimum is:  13.0\n",
            "The point where we get minimum is:  [1.0, 5.0]\n"
          ],
          "name": "stdout"
        }
      ]
    },
    {
      "cell_type": "markdown",
      "metadata": {
        "id": "j43M4iCmZzoL"
      },
      "source": [
        "### Problem 2"
      ]
    },
    {
      "cell_type": "code",
      "metadata": {
        "id": "f7IGdGD8oniq"
      },
      "source": [
        "## maximize z = 8a + 5b\n",
        "## subject to the constraint:\n",
        "## a + 2b ≤ 1000\n",
        "## a ≤ 150\n",
        "## b ≤ 250\n",
        "## Where a ≥ 0, b ≥ 0"
      ],
      "execution_count": null,
      "outputs": []
    },
    {
      "cell_type": "code",
      "metadata": {
        "id": "hMFBOrddSZRY"
      },
      "source": [
        "from matplotlib import pyplot as plt\n",
        "from shapely.geometry import LineString\n",
        "import numpy as np"
      ],
      "execution_count": null,
      "outputs": []
    },
    {
      "cell_type": "code",
      "metadata": {
        "colab": {
          "base_uri": "https://localhost:8080/",
          "height": 448
        },
        "id": "74Ym-AWZaBNG",
        "outputId": "74de9cfb-4991-4b23-df84-e8e170c93544"
      },
      "source": [
        "from matplotlib import pyplot as plt\n",
        "from shapely.geometry import LineString\n",
        "import numpy as np\n",
        "c1_x = float(input(\"Enter coefficient of x in 1st constraint \"))\n",
        "c1_y = float(input(\"Enter coefficient of y in 1st constraint \"))\n",
        "c1_c = float(input(\"Enter constant_value in 1st constraint \"))\n",
        "\n",
        "c2_x = float(input(\"Enter coefficient of x in 2nd constraint \"))\n",
        "c2_y = float(input(\"Enter coefficient of y in 2nd constraint \"))\n",
        "c2_c = float(input(\"Enter constant_value in 2nd constraint \"))\n",
        "\n",
        "c3_x = float(input(\"Enter coefficient of x in 3rd constraint \"))\n",
        "c3_y = float(input(\"Enter coefficient of y in 3rd constraint \"))\n",
        "c3_c = float(input(\"Enter constant_value in 3rd constraint \"))\n",
        "\n",
        "x1 = [0,c1_c/c1_x]\n",
        "y1 = [c1_c/c1_y,0]\n",
        "#print(x1,y1)\n",
        "plt.plot(x1,y1,lw=3)\n",
        "\n",
        "y2 = [0,max(c3_c,c2_c,c1_c/c1_x,c1_c/c1_y)+50]\n",
        "x2 = [c2_c,c2_c]\n",
        "plt.plot(x2,y2,lw=3)\n",
        "\n",
        "y3 = [c3_c,c3_c]\n",
        "x3 = [0, max(c3_c,c2_c,c1_c/c1_x,c1_c/c1_y)+50]\n",
        "#print(x3,y3)\n",
        "plt.plot(x3,y3,lw=3)\n",
        "\n",
        "s=np.linspace(0,max(c3_c,c2_c,c1_c/c1_x,c1_c/c1_y)+50)\n",
        "plt.plot(np.zeros_like(s), s, lw=3, label='t non-negative')\n",
        "plt.plot(s, np.zeros_like(s), lw=3, label='s non-negative')\n",
        "plt.xlabel('x-axis')\n",
        "plt.ylabel('y-axis')\n",
        "plt.title('plotting')\n",
        "plt.xlim(-20, max(c3_c,c2_c,c1_c/c1_x,c1_c/c1_y)+50)\n",
        "plt.ylim(-20, max(c3_c,c2_c,c1_c/c1_x,c1_c/c1_y)+50)\n",
        "plt.show()"
      ],
      "execution_count": null,
      "outputs": [
        {
          "output_type": "stream",
          "text": [
            "Enter coefficient of x in 1st constraint 1\n",
            "Enter coefficient of y in 1st constraint 2\n",
            "Enter constant_value in 1st constraint 1000\n",
            "Enter coefficient of x in 2nd constraint 1\n",
            "Enter coefficient of y in 2nd constraint 0\n",
            "Enter constant_value in 2nd constraint 150\n",
            "Enter coefficient of x in 3rd constraint 0\n",
            "Enter coefficient of y in 3rd constraint 1\n",
            "Enter constant_value in 3rd constraint 250\n"
          ],
          "name": "stdout"
        },
        {
          "output_type": "display_data",
          "data": {
            "image/png": "[encoded data removed]",
            "text/plain": [
              "<Figure size 432x288 with 1 Axes>"
            ]
          },
          "metadata": {
            "tags": [],
            "needs_background": "light"
          }
        }
      ]
    },
    {
      "cell_type": "code",
      "metadata": {
        "colab": {
          "base_uri": "https://localhost:8080/",
          "height": 295
        },
        "id": "R5x3yH-Bacaj",
        "outputId": "e5d32489-67ed-471c-dcde-98fbf377e981"
      },
      "source": [
        "line1 = LineString([(0, c1_c/c1_y), (c1_c/c1_x, 0)])  #blue\n",
        "line2 = LineString([(0, c3_c), (max(c3_c,c2_c,c1_c/c1_x,c1_c/c1_y)+50, c3_c)])  #green\n",
        "line3 = LineString([(c2_c, 0), (c2_c,max(c3_c,c2_c,c1_c/c1_x,c1_c/c1_y)+50)])  #orange\n",
        "line4 = LineString([(0, 0), (max(c3_c,c2_c,c1_c/c1_x,c1_c/c1_y)+50, 0)])  #X-axis #violet\n",
        "line5 = LineString([(0, 0), (0, max(c3_c,c2_c,c1_c/c1_x,c1_c/c1_y)+50)])  #Y-axis #red\n",
        "\n",
        "intersection_1 = line2.intersection(line5)\n",
        "intersection_2 = line3.intersection(line2)\n",
        "intersection_3 = line3.intersection(line4)\n",
        "intersection_4 = line4.intersection(line5)\n",
        "\n",
        "#print(intersection_1)\n",
        "plt.plot(*intersection_1.xy,'ro')\n",
        "plt.plot(*intersection_2.xy,'bo')\n",
        "plt.plot(*intersection_3.xy,'go')\n",
        "plt.plot(*intersection_4.xy,'yo')\n",
        "x1 = [0,c1_c/c1_x]\n",
        "y1 = [c1_c/c1_y,0]\n",
        "#print(x1,y1)\n",
        "plt.plot(x1,y1,lw=1)\n",
        "\n",
        "y2 = [0,max(c3_c,c2_c,c1_c/c1_x,c1_c/c1_y)+50]\n",
        "x2 = [c2_c,c2_c]\n",
        "plt.plot(x2,y2,lw=1)\n",
        "\n",
        "y3 = [c3_c,c3_c]\n",
        "x3 = [0, max(c3_c,c2_c,c1_c/c1_x,c1_c/c1_y)+50]\n",
        "#print(x3,y3)\n",
        "plt.plot(x3,y3,lw=1)\n",
        "\n",
        "s=np.linspace(0,max(c3_c,c2_c,c1_c/c1_x,c1_c/c1_y)+50)\n",
        "plt.plot(np.zeros_like(s), s, lw=1, label='t non-negative')\n",
        "plt.plot(s, np.zeros_like(s), lw=1, label='s non-negative')\n",
        "plt.xlabel('x-axis')\n",
        "plt.ylabel('y-axis')\n",
        "plt.title('plotting')\n",
        "plt.xlim(-20, max(c3_c,c2_c,c1_c/c1_x,c1_c/c1_y)+50)\n",
        "plt.ylim(-20, max(c3_c,c2_c,c1_c/c1_x,c1_c/c1_y)+50)\n",
        "plt.show()"
      ],
      "execution_count": null,
      "outputs": [
        {
          "output_type": "display_data",
          "data": {
            "image/png": "[encoded data removed]",
            "text/plain": [
              "<Figure size 432x288 with 1 Axes>"
            ]
          },
          "metadata": {
            "tags": [],
            "needs_background": "light"
          }
        }
      ]
    },
    {
      "cell_type": "code",
      "metadata": {
        "id": "Ky4n9ZBpbYRu"
      },
      "source": [
        "pts_1=[i[0] for i in intersection_1.xy]\n",
        "pts_2=[i[0] for i in intersection_2.xy]\n",
        "pts_3=[i[0] for i in intersection_3.xy]\n",
        "pts_4=[i[0] for i in intersection_4.xy]"
      ],
      "execution_count": null,
      "outputs": []
    },
    {
      "cell_type": "code",
      "metadata": {
        "colab": {
          "base_uri": "https://localhost:8080/",
          "height": 295
        },
        "id": "pRyxU5lTez-S",
        "outputId": "8836e28f-8eb4-4535-9302-0c848ecb165b"
      },
      "source": [
        "line1 = LineString([(0, c1_c/c1_y), (c1_c/c1_x, 0)])  #blue\n",
        "line2 = LineString([(0, c3_c), (max(c3_c,c2_c,c1_c/c1_x,c1_c/c1_y)+50, c3_c)])  #green\n",
        "line3 = LineString([(c2_c, 0), (c2_c,max(c3_c,c2_c,c1_c/c1_x,c1_c/c1_y)+50)])  #orange\n",
        "line4 = LineString([(0, 0), (max(c3_c,c2_c,c1_c/c1_x,c1_c/c1_y)+50, 0)])  #X-axis #violet\n",
        "line5 = LineString([(0, 0), (0, max(c3_c,c2_c,c1_c/c1_x,c1_c/c1_y)+50)])  #Y-axis #red\n",
        "\n",
        "intersection_1 = line2.intersection(line5)\n",
        "intersection_2 = line3.intersection(line2)\n",
        "intersection_3 = line3.intersection(line4)\n",
        "intersection_4 = line4.intersection(line5)\n",
        "\n",
        "#print(intersection_1)\n",
        "plt.plot(*intersection_1.xy,'ro')\n",
        "plt.plot(*intersection_2.xy,'bo')\n",
        "plt.plot(*intersection_3.xy,'go')\n",
        "plt.plot(*intersection_4.xy,'yo')\n",
        "x1 = [0,c1_c/c1_x]\n",
        "y1 = [c1_c/c1_y,0]\n",
        "#print(x1,y1)\n",
        "plt.plot(x1,y1,lw=1)\n",
        "\n",
        "y2 = [0,max(c3_c,c2_c,c1_c/c1_x,c1_c/c1_y)+50]\n",
        "x2 = [c2_c,c2_c]\n",
        "plt.plot(x2,y2,lw=1)\n",
        "\n",
        "y3 = [c3_c,c3_c]\n",
        "x3 = [0, max(c3_c,c2_c,c1_c/c1_x,c1_c/c1_y)+50]\n",
        "#print(x3,y3)\n",
        "plt.plot(x3,y3,lw=1)\n",
        "\n",
        "s=np.linspace(0,max(c3_c,c2_c,c1_c/c1_x,c1_c/c1_y)+50)\n",
        "plt.plot(np.zeros_like(s), s, lw=1, label='t non-negative')\n",
        "plt.plot(s, np.zeros_like(s), lw=1, label='s non-negative')\n",
        "plt.xlabel('x-axis')\n",
        "plt.ylabel('y-axis')\n",
        "plt.title('plotting')\n",
        "plt.xlim(-20, max(c3_c,c2_c,c1_c/c1_x,c1_c/c1_y)+50)\n",
        "plt.ylim(-20, max(c3_c,c2_c,c1_c/c1_x,c1_c/c1_y)+50)\n",
        "\n",
        "A = [pts_4[0],pts_3[0],pts_2[0],pts_1[0]]\n",
        "B = [pts_4[1],pts_3[1],pts_2[1],pts_1[1]]\n",
        "\n",
        "plt.fill(A,B)\n",
        "plt.show()\n"
      ],
      "execution_count": null,
      "outputs": [
        {
          "output_type": "display_data",
          "data": {
            "image/png": "[encoded data removed]",
            "text/plain": [
              "<Figure size 432x288 with 1 Axes>"
            ]
          },
          "metadata": {
            "tags": [],
            "needs_background": "light"
          }
        }
      ]
    },
    {
      "cell_type": "code",
      "metadata": {
        "colab": {
          "base_uri": "https://localhost:8080/"
        },
        "id": "g01pcfO8cD7h",
        "outputId": "582dcab5-a099-42a4-afe6-1ac3ca610ae1"
      },
      "source": [
        "l = [pts_1,pts_2,pts_3,pts_4]\n",
        "print('The extreme points are: ',l)\n",
        "p = float(input(\"Enter coefficient of x in objective function \"))\n",
        "q = float(input(\"Enter the coefficient of y in objective function \"))\n",
        "l1 = []\n",
        "for point in l:\n",
        "  l1.append(p * point[0] + q * point[1])\n",
        "print(l1)\n",
        "print('Maximum is: ',max(l1))\n",
        "print('The point where we get maximum is: ',l[np.argmax(l1)])"
      ],
      "execution_count": null,
      "outputs": [
        {
          "output_type": "stream",
          "text": [
            "The extreme points are:  [[0.0, 250.0], [150.0, 250.0], [150.0, 0.0], [0.0, 0.0]]\n",
            "Enter coefficient of x in objective function 8\n",
            "Enter the coefficient of y in objective function 5\n",
            "[1250.0, 2450.0, 1200.0, 0.0]\n",
            "Maximum is:  2450.0\n",
            "The point where we get maximum is:  [150.0, 250.0]\n"
          ],
          "name": "stdout"
        }
      ]
    },
    {
      "cell_type": "code",
      "metadata": {
        "id": "yJ3wPVthcVfq"
      },
      "source": [
        ""
      ],
      "execution_count": null,
      "outputs": []
    }
  ]
}